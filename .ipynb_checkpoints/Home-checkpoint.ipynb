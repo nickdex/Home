{
 "cells": [
  {
   "cell_type": "code",
   "execution_count": 1,
   "metadata": {},
   "outputs": [],
   "source": [
    "import pandas as pd\n",
    "import numpy as np"
   ]
  },
  {
   "cell_type": "code",
   "execution_count": 2,
   "metadata": {},
   "outputs": [],
   "source": [
    "def nonlin(x,deriv=False):\n",
    "# sigmoid function\n",
    "    if(deriv==True):\n",
    "        return x*(1-x)\n",
    "    return 1/(1+np.exp(-x))"
   ]
  },
  {
   "cell_type": "code",
   "execution_count": 13,
   "metadata": {},
   "outputs": [],
   "source": [
    "def weekhour_mat(dataframe):\n",
    "    in_nodes = np.zeros((len(dataframe),31))\n",
    "\n",
    "    for i in range(len(dataframe)):\n",
    "        weekday = int(dataframe.iloc[i].weekday)\n",
    "        time = int(dataframe.iloc[i].time)\n",
    "        # Weekday\n",
    "        in_nodes[i][weekday] = 1\n",
    "        # Time\n",
    "        in_nodes[i][7+time] = 1\n",
    "    return in_nodes"
   ]
  },
  {
   "cell_type": "code",
   "execution_count": 4,
   "metadata": {},
   "outputs": [],
   "source": [
    "def weekminute_mat(dataframe):\n",
    "    weeks = 7\n",
    "    hours = 24\n",
    "    minutes = 60\n",
    "    mat = np.zeros((len(dataframe),weeks+hours+minutes))\n",
    "\n",
    "    for i in range(len(dataframe)):\n",
    "        weekday = dataframe.iloc[i].weekday\n",
    "        hour = dataframe.iloc[i].hour\n",
    "        minute = dataframe.iloc[i].minute\n",
    "        # Weekday\n",
    "        mat[i][weekday] = 1\n",
    "        # Hour\n",
    "        mat[i][weeks+hour] = 1\n",
    "        # Minute\n",
    "        mat[i][weeks+hours+minute] = 1\n",
    "\n",
    "    return mat"
   ]
  },
  {
   "cell_type": "code",
   "execution_count": 5,
   "metadata": {
    "scrolled": true
   },
   "outputs": [],
   "source": [
    "def train_model(data_mat, seed=1, iterations=100, res='hour'):\n",
    "    if res == 'hour':\n",
    "        nodes = 31\n",
    "    elif res == 'minute':\n",
    "        nodes = 91\n",
    "    \n",
    "    np.random.seed(seed)\n",
    "\n",
    "    w0 = 2*np.random.random((nodes,1)) - 1\n",
    "    #w1 = 2*np.random.random(())\n",
    "\n",
    "    for i in range(iterations):\n",
    "        #L0 = np.array(X, dtype=int) # When converting from pandas dataframe\n",
    "        #Y  = np.array(Y, dtype=int) # When using pandas\n",
    "\n",
    "        L0 = data_mat[:, :-1]\n",
    "        Y = data_mat[:, -1]\n",
    "\n",
    "        L1 = nonlin(np.dot(L0, w0))\n",
    "\n",
    "        L1_error = Y - L1\n",
    "\n",
    "        if (i % (iterations/10) == 0):\n",
    "            print('Error after iteration {i}: {error}'.format(i=i, error=np.mean(np.abs(L1_error))))\n",
    "\n",
    "        L1_delta = L1_error * nonlin(L1, True)\n",
    "\n",
    "        w0 += np.dot(L0.T, L1_delta)\n",
    "    \n",
    "    return w0"
   ]
  },
  {
   "cell_type": "code",
   "execution_count": 8,
   "metadata": {},
   "outputs": [],
   "source": [
    "df = pd.read_csv('presence-21apr-04may.csv', sep=',', index_col=0, parse_dates=True) # original Data"
   ]
  },
  {
   "cell_type": "code",
   "execution_count": 9,
   "metadata": {},
   "outputs": [],
   "source": [
    "df['hour'] = df.index.hour\n",
    "df['minute'] = df.index.minute\n",
    "df['second'] = df.index.second\n",
    "df['weekday'] = df.index.weekday"
   ]
  },
  {
   "cell_type": "code",
   "execution_count": 6,
   "metadata": {},
   "outputs": [],
   "source": [
    "in_nodes = np.loadtxt('inputnodes-weekminute-21apr-04may.csv', delimiter=',' ,skiprows=1)"
   ]
  },
  {
   "cell_type": "markdown",
   "metadata": {},
   "source": [
    "# Sample Data"
   ]
  },
  {
   "cell_type": "code",
   "execution_count": 10,
   "metadata": {},
   "outputs": [],
   "source": [
    "temp = df"
   ]
  },
  {
   "cell_type": "code",
   "execution_count": 11,
   "metadata": {
    "scrolled": true
   },
   "outputs": [],
   "source": [
    "# Convert online/offline to 1/0 respectively\n",
    "temp['value'] = temp.Value.apply(lambda x: 1 if x == 'online' else 0)"
   ]
  },
  {
   "cell_type": "code",
   "execution_count": 14,
   "metadata": {},
   "outputs": [],
   "source": [
    "in_nodes = weekminute_mat(temp)"
   ]
  },
  {
   "cell_type": "markdown",
   "metadata": {},
   "source": [
    "## Training"
   ]
  },
  {
   "cell_type": "code",
   "execution_count": 15,
   "metadata": {},
   "outputs": [
    {
     "ename": "ValueError",
     "evalue": "shapes (93884,90) and (91,1) not aligned: 90 (dim 1) != 91 (dim 0)",
     "output_type": "error",
     "traceback": [
      "\u001b[1;31m---------------------------------------------------------------------------\u001b[0m",
      "\u001b[1;31mValueError\u001b[0m                                Traceback (most recent call last)",
      "\u001b[1;32m<ipython-input-15-6fa018217b0b>\u001b[0m in \u001b[0;36m<module>\u001b[1;34m()\u001b[0m\n\u001b[1;32m----> 1\u001b[1;33m \u001b[0mw0\u001b[0m \u001b[1;33m=\u001b[0m \u001b[0mtrain_model\u001b[0m\u001b[1;33m(\u001b[0m\u001b[0min_nodes\u001b[0m\u001b[1;33m,\u001b[0m \u001b[0mres\u001b[0m\u001b[1;33m=\u001b[0m\u001b[1;34m'minute'\u001b[0m\u001b[1;33m)\u001b[0m\u001b[1;33m\u001b[0m\u001b[0m\n\u001b[0m",
      "\u001b[1;32m<ipython-input-5-75c53e705667>\u001b[0m in \u001b[0;36mtrain_model\u001b[1;34m(data_mat, seed, iterations, res)\u001b[0m\n\u001b[0;32m     17\u001b[0m         \u001b[0mY\u001b[0m \u001b[1;33m=\u001b[0m \u001b[0mdata_mat\u001b[0m\u001b[1;33m[\u001b[0m\u001b[1;33m:\u001b[0m\u001b[1;33m,\u001b[0m \u001b[1;33m-\u001b[0m\u001b[1;36m1\u001b[0m\u001b[1;33m]\u001b[0m\u001b[1;33m\u001b[0m\u001b[0m\n\u001b[0;32m     18\u001b[0m \u001b[1;33m\u001b[0m\u001b[0m\n\u001b[1;32m---> 19\u001b[1;33m         \u001b[0mL1\u001b[0m \u001b[1;33m=\u001b[0m \u001b[0mnonlin\u001b[0m\u001b[1;33m(\u001b[0m\u001b[0mnp\u001b[0m\u001b[1;33m.\u001b[0m\u001b[0mdot\u001b[0m\u001b[1;33m(\u001b[0m\u001b[0mL0\u001b[0m\u001b[1;33m,\u001b[0m \u001b[0mw0\u001b[0m\u001b[1;33m)\u001b[0m\u001b[1;33m)\u001b[0m\u001b[1;33m\u001b[0m\u001b[0m\n\u001b[0m\u001b[0;32m     20\u001b[0m \u001b[1;33m\u001b[0m\u001b[0m\n\u001b[0;32m     21\u001b[0m         \u001b[0mL1_error\u001b[0m \u001b[1;33m=\u001b[0m \u001b[0mY\u001b[0m \u001b[1;33m-\u001b[0m \u001b[0mL1\u001b[0m\u001b[1;33m\u001b[0m\u001b[0m\n",
      "\u001b[1;31mValueError\u001b[0m: shapes (93884,90) and (91,1) not aligned: 90 (dim 1) != 91 (dim 0)"
     ]
    }
   ],
   "source": [
    "w0 = train_model(in_nodes, res='minute')"
   ]
  },
  {
   "cell_type": "code",
   "execution_count": null,
   "metadata": {
    "scrolled": true
   },
   "outputs": [],
   "source": [
    "week_vec = np.zeros(7)\n",
    "hour_vec = np.zeros(24)\n",
    "minute_vec = np.zeros(60)\n",
    "\n",
    "week_vec[6] = 1\n",
    "hour_vec[23] = 1\n",
    "minute_vec[30] = 1\n",
    "print('%-.15f'%nonlin(np.dot(np.hstack((week_vec, hour_vec, minute_vec)), w0)))"
   ]
  },
  {
   "cell_type": "code",
   "execution_count": null,
   "metadata": {},
   "outputs": [],
   "source": [
    "np.savetxt('weights-weekminute-21apr-04may.csv', w0, delimiter=',', fmt='%.8f')"
   ]
  },
  {
   "cell_type": "code",
   "execution_count": null,
   "metadata": {},
   "outputs": [],
   "source": [
    "from itertools import chain\n",
    "\n",
    "inputdf = pd.DataFrame(in_nodes, columns=chain(range(7), range(24), range(60)))"
   ]
  },
  {
   "cell_type": "code",
   "execution_count": null,
   "metadata": {},
   "outputs": [],
   "source": [
    "inputdf['value'] = list(temp.value)"
   ]
  },
  {
   "cell_type": "code",
   "execution_count": null,
   "metadata": {},
   "outputs": [],
   "source": [
    "inputdf.to_csv('inputnodes-weekminute-21apr-04may.csv', index=False)"
   ]
  },
  {
   "cell_type": "code",
   "execution_count": null,
   "metadata": {},
   "outputs": [],
   "source": [
    "for i,j in zip(w0, np.hstack((week_vec, hour_vec, minute_vec))):\n",
    "    print(i,j)"
   ]
  },
  {
   "cell_type": "markdown",
   "metadata": {},
   "source": [
    "# Visualization"
   ]
  },
  {
   "cell_type": "code",
   "execution_count": null,
   "metadata": {},
   "outputs": [],
   "source": [
    "temp['Value'] = temp.Value.apply(lambda x: 1 if x == 'online' else -1)"
   ]
  },
  {
   "cell_type": "code",
   "execution_count": null,
   "metadata": {},
   "outputs": [],
   "source": [
    "#temp_week = temp[:'2018-04-27']\n",
    "temp_week = temp['2018-04-28':]"
   ]
  },
  {
   "cell_type": "code",
   "execution_count": null,
   "metadata": {
    "scrolled": true
   },
   "outputs": [],
   "source": [
    "temp_week = temp_week.resample('1H').apply(lambda x: 1 if sum(x) > 0 else -1)"
   ]
  },
  {
   "cell_type": "code",
   "execution_count": null,
   "metadata": {},
   "outputs": [],
   "source": [
    "is_online = temp_week['Value']==1"
   ]
  },
  {
   "cell_type": "code",
   "execution_count": null,
   "metadata": {},
   "outputs": [],
   "source": [
    "temp_week['Date'] = temp_week.index.date\n",
    "temp_week['Time'] = temp_week.index.time"
   ]
  },
  {
   "cell_type": "markdown",
   "metadata": {},
   "source": [
    "## Bokeh"
   ]
  },
  {
   "cell_type": "code",
   "execution_count": 1,
   "metadata": {},
   "outputs": [],
   "source": [
    "import pandas as pd\n",
    "import seaborn as sns"
   ]
  },
  {
   "cell_type": "code",
   "execution_count": 2,
   "metadata": {},
   "outputs": [],
   "source": [
    "%matplotlib inline"
   ]
  },
  {
   "cell_type": "code",
   "execution_count": 3,
   "metadata": {},
   "outputs": [],
   "source": [
    "df = pd.read_csv('presence-21apr-04may.csv', sep=',', index_col=0, parse_dates=True) # original Data"
   ]
  },
  {
   "cell_type": "code",
   "execution_count": 20,
   "metadata": {},
   "outputs": [],
   "source": [
    "temp = df"
   ]
  },
  {
   "cell_type": "code",
   "execution_count": 21,
   "metadata": {},
   "outputs": [],
   "source": [
    "temp['Value'] = temp.Value.apply(lambda x: 1 if x == 'online' else -1)"
   ]
  },
  {
   "cell_type": "code",
   "execution_count": 22,
   "metadata": {},
   "outputs": [],
   "source": [
    "temp_week = temp['2018-04-28':]"
   ]
  },
  {
   "cell_type": "code",
   "execution_count": 23,
   "metadata": {
    "scrolled": true
   },
   "outputs": [],
   "source": [
    "temp_week = temp_week.resample('1T').apply(lambda x: 1 if sum(x) > 0 else -1)"
   ]
  },
  {
   "cell_type": "code",
   "execution_count": 24,
   "metadata": {},
   "outputs": [],
   "source": [
    "temp_week['weekday'] = temp_week.index.weekday"
   ]
  },
  {
   "cell_type": "code",
   "execution_count": 26,
   "metadata": {},
   "outputs": [],
   "source": [
    "temp_week['time'] = temp_week.index.time"
   ]
  },
  {
   "cell_type": "code",
   "execution_count": null,
   "metadata": {},
   "outputs": [],
   "source": []
  },
  {
   "cell_type": "code",
   "execution_count": null,
   "metadata": {},
   "outputs": [],
   "source": [
    "import bokeh.plotting as bpl\n",
    "import bokeh.models as bmo\n",
    "from bokeh.palettes import d3\n",
    "#bpl.output_notebook()"
   ]
  },
  {
   "cell_type": "code",
   "execution_count": null,
   "metadata": {},
   "outputs": [],
   "source": [
    "p = bpl.figure(width=800, height=600, tools=\"pan,box_zoom,reset,save\", y_axis_label='Day', x_axis_label='Time', y_axis_type='datetime', x_axis_type='datetime')"
   ]
  },
  {
   "cell_type": "code",
   "execution_count": null,
   "metadata": {},
   "outputs": [],
   "source": [
    "p.circle(temp_week['Time'][is_online], temp_week['Date'][is_online], fill_color='green', size=8)\n",
    "p.circle(temp_week['Time'][~is_online], temp_week['Date'][~is_online], fill_color='red', size=8)"
   ]
  },
  {
   "cell_type": "code",
   "execution_count": null,
   "metadata": {},
   "outputs": [],
   "source": [
    "p.yaxis.formatter = bmo.formatters.DatetimeTickFormatter(days='%a')"
   ]
  },
  {
   "cell_type": "code",
   "execution_count": null,
   "metadata": {
    "scrolled": false
   },
   "outputs": [],
   "source": [
    "bpl.show(p)"
   ]
  }
 ],
 "metadata": {
  "kernelspec": {
   "display_name": "Python 3",
   "language": "python",
   "name": "python3"
  },
  "language_info": {
   "codemirror_mode": {
    "name": "ipython",
    "version": 3
   },
   "file_extension": ".py",
   "mimetype": "text/x-python",
   "name": "python",
   "nbconvert_exporter": "python",
   "pygments_lexer": "ipython3",
   "version": "3.6.5"
  }
 },
 "nbformat": 4,
 "nbformat_minor": 2
}
