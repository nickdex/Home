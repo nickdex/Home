{
 "cells": [
  {
   "cell_type": "code",
   "execution_count": 1,
   "metadata": {},
   "outputs": [],
   "source": [
    "import pandas as pd\n",
    "import numpy as np"
   ]
  },
  {
   "cell_type": "code",
   "execution_count": 2,
   "metadata": {},
   "outputs": [],
   "source": [
    "import bokeh.plotting as bpl\n",
    "import bokeh.models as bmo\n",
    "from bokeh.palettes import d3\n",
    "#bpl.output_notebook()"
   ]
  },
  {
   "cell_type": "code",
   "execution_count": 3,
   "metadata": {},
   "outputs": [],
   "source": [
    "df = pd.read_csv('device_presence.log', sep=' ', names=['Day', 'Time', 'd', 'is', 'Value'])"
   ]
  },
  {
   "cell_type": "code",
   "execution_count": 4,
   "metadata": {},
   "outputs": [],
   "source": [
    "df = df[['Day', 'Time', 'Value']]"
   ]
  },
  {
   "cell_type": "code",
   "execution_count": 5,
   "metadata": {
    "scrolled": true
   },
   "outputs": [],
   "source": [
    "df['Time'] = df['Time'].str[:8]"
   ]
  },
  {
   "cell_type": "code",
   "execution_count": 6,
   "metadata": {},
   "outputs": [],
   "source": [
    "def nonlin(x,deriv=False):\n",
    "# sigmoid function\n",
    "    if(deriv==True):\n",
    "        return x*(1-x)\n",
    "    return 1/(1+np.exp(-x))"
   ]
  },
  {
   "cell_type": "code",
   "execution_count": 20,
   "metadata": {},
   "outputs": [],
   "source": [
    "def weektime_vec(dataframe):\n",
    "    in_nodes = np.zeros((len(dataframe),31))\n",
    "\n",
    "    for i in range(len(dataframe)):\n",
    "        weekday = int(dataframe.iloc[i].weekday)\n",
    "        time = int(dataframe.iloc[i].time)\n",
    "        # Weekday\n",
    "        in_nodes[i][weekday] = 1\n",
    "        # Time\n",
    "        in_nodes[i][7+time] = 1\n",
    "    return in_nodes"
   ]
  },
  {
   "cell_type": "code",
   "execution_count": 71,
   "metadata": {
    "scrolled": true
   },
   "outputs": [],
   "source": [
    "def train_model(df, seed=1, iterations=100):\n",
    "    np.random.seed(seed)\n",
    "\n",
    "    w0 = 2*np.random.random((31,1)) - 1\n",
    "    #w1 = 2*np.random.random(())\n",
    "\n",
    "    for i in range(iterations):\n",
    "        X  = in_nodes\n",
    "        #L0 = np.array(X, dtype=int) # When converting from pandas dataframe\n",
    "        L0 = X\n",
    "        Y  = np.array(df[['value']], dtype=int)\n",
    "\n",
    "        L1 = nonlin(np.dot(L0, w0))\n",
    "\n",
    "        L1_error = Y - L1\n",
    "\n",
    "        if (i % (iterations/10) == 0):\n",
    "            print('Error after iteration {i}: {error}'.format(i=i, error=np.mean(np.abs(L1_error))))\n",
    "\n",
    "        L1_delta = L1_error * nonlin(L1, True)\n",
    "\n",
    "        w0 += np.dot(L0.T, L1_delta)\n",
    "    \n",
    "    return w0"
   ]
  },
  {
   "cell_type": "markdown",
   "metadata": {},
   "source": [
    "# Sample Data"
   ]
  },
  {
   "cell_type": "code",
   "execution_count": 7,
   "metadata": {},
   "outputs": [],
   "source": [
    "temp = df"
   ]
  },
  {
   "cell_type": "code",
   "execution_count": 8,
   "metadata": {
    "scrolled": true
   },
   "outputs": [],
   "source": [
    "temp['time'] = temp.Time.apply(lambda x: x[:2].replace(':', ''))\n",
    "temp['value'] = temp.Value.apply(lambda x: 1 if x == 'online' else 0)\n",
    "\n",
    "temp['weekday'] = pd.to_datetime(temp['Day']).dt.dayofweek"
   ]
  },
  {
   "cell_type": "code",
   "execution_count": 73,
   "metadata": {},
   "outputs": [],
   "source": [
    "in_nodes = weektime_vec(temp)"
   ]
  },
  {
   "cell_type": "code",
   "execution_count": 74,
   "metadata": {},
   "outputs": [
    {
     "name": "stdout",
     "output_type": "stream",
     "text": [
      "Error after iteration 0: 0.4874198090575956\n",
      "Error after iteration 10: 0.248788756790655\n",
      "Error after iteration 20: 0.24861446885529193\n",
      "Error after iteration 30: 0.2473914956326398\n",
      "Error after iteration 40: 0.24844287035976037\n",
      "Error after iteration 50: 0.24717031602071274\n",
      "Error after iteration 60: 0.24717068504537604\n",
      "Error after iteration 70: 0.24717113926182405\n",
      "Error after iteration 80: 0.247171712511703\n",
      "Error after iteration 90: 0.24717245941597032\n"
     ]
    }
   ],
   "source": [
    "w0 = train_model(temp)"
   ]
  },
  {
   "cell_type": "code",
   "execution_count": 81,
   "metadata": {
    "scrolled": true
   },
   "outputs": [
    {
     "name": "stdout",
     "output_type": "stream",
     "text": [
      "1.000000000000000\n"
     ]
    }
   ],
   "source": [
    "week_mat = np.zeros(7)\n",
    "time_mat = np.zeros(24)\n",
    "\n",
    "week_mat[6] = 1\n",
    "time_mat[17] = 1\n",
    "print('%-.15f'%nonlin(np.dot(np.hstack((week_mat, time_mat)), w0)))"
   ]
  },
  {
   "cell_type": "code",
   "execution_count": 84,
   "metadata": {},
   "outputs": [],
   "source": [
    "np.savetxt('weights.csv', w0, delimiter=',', fmt='%.8f')"
   ]
  },
  {
   "cell_type": "code",
   "execution_count": 79,
   "metadata": {},
   "outputs": [
    {
     "name": "stdout",
     "output_type": "stream",
     "text": [
      "[-297.0521543] 1.0\n",
      "[-328.71112739] 0.0\n",
      "[-57.02389327] 0.0\n",
      "[-182.88108571] 0.0\n",
      "[-23.46782598] 0.0\n",
      "[117.01294384] 0.0\n",
      "[177.7646838] 0.0\n",
      "[-1.62962906] 0.0\n",
      "[-47.83000802] 0.0\n",
      "[-59.72464222] 0.0\n",
      "[-46.6570164] 0.0\n",
      "[-69.76081684] 0.0\n",
      "[13.06904326] 0.0\n",
      "[-48.11117594] 0.0\n",
      "[39.90780532] 0.0\n",
      "[65.73829432] 0.0\n",
      "[-38.35569871] 0.0\n",
      "[-100.99965486] 0.0\n",
      "[-39.17021978] 0.0\n",
      "[-43.75408779] 0.0\n",
      "[-132.26011035] 0.0\n",
      "[-137.52033879] 0.0\n",
      "[-45.86413291] 0.0\n",
      "[-106.20857101] 0.0\n",
      "[-102.47295137] 0.0\n",
      "[-110.0235141] 0.0\n",
      "[47.64648445] 0.0\n",
      "[119.6273682] 1.0\n",
      "[110.68486027] 0.0\n",
      "[101.10524003] 0.0\n",
      "[40.06798562] 0.0\n"
     ]
    },
    {
     "data": {
      "text/plain": [
       "[None,\n",
       " None,\n",
       " None,\n",
       " None,\n",
       " None,\n",
       " None,\n",
       " None,\n",
       " None,\n",
       " None,\n",
       " None,\n",
       " None,\n",
       " None,\n",
       " None,\n",
       " None,\n",
       " None,\n",
       " None,\n",
       " None,\n",
       " None,\n",
       " None,\n",
       " None,\n",
       " None,\n",
       " None,\n",
       " None,\n",
       " None,\n",
       " None,\n",
       " None,\n",
       " None,\n",
       " None,\n",
       " None,\n",
       " None,\n",
       " None]"
      ]
     },
     "execution_count": 79,
     "metadata": {},
     "output_type": "execute_result"
    }
   ],
   "source": [
    "[print(i,j) for i,j in zip(w0, np.hstack((week_mat, time_mat)))]"
   ]
  },
  {
   "cell_type": "markdown",
   "metadata": {},
   "source": [
    "# Visualization"
   ]
  },
  {
   "cell_type": "markdown",
   "metadata": {},
   "source": [
    "## Bokeh"
   ]
  },
  {
   "cell_type": "code",
   "execution_count": null,
   "metadata": {},
   "outputs": [],
   "source": [
    "temp['Datetime']= temp['Day'].str.cat(temp['Time'], sep=' ')\n",
    "temp['Datetime'] = pandas.to_datetime(temp['Datetime'])"
   ]
  },
  {
   "cell_type": "code",
   "execution_count": null,
   "metadata": {},
   "outputs": [],
   "source": [
    "temp = temp[['Datetime', 'Value']]"
   ]
  },
  {
   "cell_type": "code",
   "execution_count": null,
   "metadata": {
    "scrolled": true
   },
   "outputs": [],
   "source": [
    "temp = temp.set_index('Datetime')"
   ]
  },
  {
   "cell_type": "code",
   "execution_count": null,
   "metadata": {},
   "outputs": [],
   "source": [
    "temp['Value'] = temp.Value.apply(lambda x: 1 if x == 'online' else -1)"
   ]
  },
  {
   "cell_type": "code",
   "execution_count": null,
   "metadata": {},
   "outputs": [],
   "source": [
    "temp = temp.sort_index()"
   ]
  },
  {
   "cell_type": "code",
   "execution_count": null,
   "metadata": {},
   "outputs": [],
   "source": [
    "#temp_week = temp[:'2018-04-27']\n",
    "temp_week = temp['2018-04-28':]"
   ]
  },
  {
   "cell_type": "code",
   "execution_count": null,
   "metadata": {
    "scrolled": true
   },
   "outputs": [],
   "source": [
    "temp_week = temp_week.resample('1H').apply(lambda x: 1 if sum(x) > 0 else -1)"
   ]
  },
  {
   "cell_type": "code",
   "execution_count": null,
   "metadata": {},
   "outputs": [],
   "source": [
    "is_online = temp_week['Value']==1"
   ]
  },
  {
   "cell_type": "code",
   "execution_count": null,
   "metadata": {},
   "outputs": [],
   "source": [
    "temp_week['Date'] = temp_week.index.date\n",
    "temp_week['Time'] = temp_week.index.time"
   ]
  },
  {
   "cell_type": "code",
   "execution_count": null,
   "metadata": {},
   "outputs": [],
   "source": [
    "p = bpl.figure(width=800, height=600, tools=\"pan,box_zoom,reset,save\", y_axis_label='Day', x_axis_label='Time', y_axis_type='datetime', x_axis_type='datetime')"
   ]
  },
  {
   "cell_type": "code",
   "execution_count": null,
   "metadata": {},
   "outputs": [],
   "source": [
    "p.circle(temp_week['Time'][is_online], temp_week['Date'][is_online], fill_color='green', size=8)\n",
    "p.circle(temp_week['Time'][~is_online], temp_week['Date'][~is_online], fill_color='red', size=8)"
   ]
  },
  {
   "cell_type": "code",
   "execution_count": null,
   "metadata": {},
   "outputs": [],
   "source": [
    "p.yaxis.formatter = bmo.formatters.DatetimeTickFormatter(days='%a')"
   ]
  },
  {
   "cell_type": "code",
   "execution_count": null,
   "metadata": {
    "scrolled": false
   },
   "outputs": [],
   "source": [
    "bpl.show(p)"
   ]
  },
  {
   "cell_type": "code",
   "execution_count": null,
   "metadata": {},
   "outputs": [],
   "source": [
    "len(temp_week)"
   ]
  },
  {
   "cell_type": "markdown",
   "metadata": {},
   "source": [
    "temp"
   ]
  },
  {
   "cell_type": "code",
   "execution_count": null,
   "metadata": {},
   "outputs": [],
   "source": [
    "temp_week"
   ]
  }
 ],
 "metadata": {
  "kernelspec": {
   "display_name": "Python 3",
   "language": "python",
   "name": "python3"
  },
  "language_info": {
   "codemirror_mode": {
    "name": "ipython",
    "version": 3
   },
   "file_extension": ".py",
   "mimetype": "text/x-python",
   "name": "python",
   "nbconvert_exporter": "python",
   "pygments_lexer": "ipython3",
   "version": "3.6.5"
  }
 },
 "nbformat": 4,
 "nbformat_minor": 2
}
