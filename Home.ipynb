{
 "cells": [
  {
   "cell_type": "code",
   "execution_count": 1,
   "metadata": {},
   "outputs": [],
   "source": [
    "import pandas as pd\n",
    "import numpy as np"
   ]
  },
  {
   "cell_type": "code",
   "execution_count": 2,
   "metadata": {},
   "outputs": [],
   "source": [
    "def nonlin(x,deriv=False):\n",
    "# sigmoid function\n",
    "    if(deriv==True):\n",
    "        return x*(1-x)\n",
    "    return 1/(1+np.exp(-x))"
   ]
  },
  {
   "cell_type": "code",
   "execution_count": 13,
   "metadata": {},
   "outputs": [],
   "source": [
    "def weekhour_mat(dataframe):\n",
    "    in_nodes = np.zeros((len(dataframe),31))\n",
    "\n",
    "    for i in range(len(dataframe)):\n",
    "        weekday = int(dataframe.iloc[i].weekday)\n",
    "        time = int(dataframe.iloc[i].time)\n",
    "        # Weekday\n",
    "        in_nodes[i][weekday] = 1\n",
    "        # Time\n",
    "        in_nodes[i][7+time] = 1\n",
    "    return in_nodes"
   ]
  },
  {
   "cell_type": "code",
   "execution_count": 4,
   "metadata": {},
   "outputs": [],
   "source": [
    "def weekminute_mat(dataframe):\n",
    "    weeks = 7\n",
    "    hours = 24\n",
    "    minutes = 60\n",
    "    mat = np.zeros((len(dataframe),weeks+hours+minutes))\n",
    "\n",
    "    for i in range(len(dataframe)):\n",
    "        weekday = dataframe.iloc[i].weekday\n",
    "        hour = dataframe.iloc[i].hour\n",
    "        minute = dataframe.iloc[i].minute\n",
    "        # Weekday\n",
    "        mat[i][weekday] = 1\n",
    "        # Hour\n",
    "        mat[i][weeks+hour] = 1\n",
    "        # Minute\n",
    "        mat[i][weeks+hours+minute] = 1\n",
    "\n",
    "    return mat"
   ]
  },
  {
   "cell_type": "code",
   "execution_count": 5,
   "metadata": {
    "scrolled": true
   },
   "outputs": [],
   "source": [
    "def train_model(data_mat, seed=1, iterations=100, res='hour'):\n",
    "    if res == 'hour':\n",
    "        nodes = 31\n",
    "    elif res == 'minute':\n",
    "        nodes = 91\n",
    "    \n",
    "    np.random.seed(seed)\n",
    "\n",
    "    w0 = 2*np.random.random((nodes,1)) - 1\n",
    "    #w1 = 2*np.random.random(())\n",
    "\n",
    "    for i in range(iterations):\n",
    "        #L0 = np.array(X, dtype=int) # When converting from pandas dataframe\n",
    "        #Y  = np.array(Y, dtype=int) # When using pandas\n",
    "\n",
    "        L0 = data_mat[:, :-1]\n",
    "        Y = data_mat[:, -1]\n",
    "\n",
    "        L1 = nonlin(np.dot(L0, w0))\n",
    "\n",
    "        L1_error = Y - L1\n",
    "\n",
    "        if (i % (iterations/10) == 0):\n",
    "            print('Error after iteration {i}: {error}'.format(i=i, error=np.mean(np.abs(L1_error))))\n",
    "\n",
    "        L1_delta = L1_error * nonlin(L1, True)\n",
    "\n",
    "        w0 += np.dot(L0.T, L1_delta)\n",
    "    \n",
    "    return w0"
   ]
  },
  {
   "cell_type": "code",
   "execution_count": 8,
   "metadata": {},
   "outputs": [],
   "source": [
    "df = pd.read_csv('presence-21apr-04may.csv', sep=',', index_col=0, parse_dates=True) # original Data"
   ]
  },
  {
   "cell_type": "code",
   "execution_count": 9,
   "metadata": {},
   "outputs": [],
   "source": [
    "df['hour'] = df.index.hour\n",
    "df['minute'] = df.index.minute\n",
    "df['second'] = df.index.second\n",
    "df['weekday'] = df.index.weekday"
   ]
  },
  {
   "cell_type": "code",
   "execution_count": 6,
   "metadata": {},
   "outputs": [],
   "source": [
    "in_nodes = np.loadtxt('inputnodes-weekminute-21apr-04may.csv', delimiter=',' ,skiprows=1)"
   ]
  },
  {
   "cell_type": "markdown",
   "metadata": {},
   "source": [
    "# Sample Data"
   ]
  },
  {
   "cell_type": "code",
   "execution_count": 10,
   "metadata": {},
   "outputs": [],
   "source": [
    "temp = df"
   ]
  },
  {
   "cell_type": "code",
   "execution_count": 11,
   "metadata": {
    "scrolled": true
   },
   "outputs": [],
   "source": [
    "# Convert online/offline to 1/0 respectively\n",
    "temp['value'] = temp.Value.apply(lambda x: 1 if x == 'online' else 0)"
   ]
  },
  {
   "cell_type": "code",
   "execution_count": 14,
   "metadata": {},
   "outputs": [],
   "source": [
    "in_nodes = weekminute_mat(temp)"
   ]
  },
  {
   "cell_type": "markdown",
   "metadata": {},
   "source": [
    "## Training"
   ]
  },
  {
   "cell_type": "code",
   "execution_count": 15,
   "metadata": {},
   "outputs": [
    {
     "ename": "ValueError",
     "evalue": "shapes (93884,90) and (91,1) not aligned: 90 (dim 1) != 91 (dim 0)",
     "output_type": "error",
     "traceback": [
      "\u001b[1;31m---------------------------------------------------------------------------\u001b[0m",
      "\u001b[1;31mValueError\u001b[0m                                Traceback (most recent call last)",
      "\u001b[1;32m<ipython-input-15-6fa018217b0b>\u001b[0m in \u001b[0;36m<module>\u001b[1;34m()\u001b[0m\n\u001b[1;32m----> 1\u001b[1;33m \u001b[0mw0\u001b[0m \u001b[1;33m=\u001b[0m \u001b[0mtrain_model\u001b[0m\u001b[1;33m(\u001b[0m\u001b[0min_nodes\u001b[0m\u001b[1;33m,\u001b[0m \u001b[0mres\u001b[0m\u001b[1;33m=\u001b[0m\u001b[1;34m'minute'\u001b[0m\u001b[1;33m)\u001b[0m\u001b[1;33m\u001b[0m\u001b[0m\n\u001b[0m",
      "\u001b[1;32m<ipython-input-5-75c53e705667>\u001b[0m in \u001b[0;36mtrain_model\u001b[1;34m(data_mat, seed, iterations, res)\u001b[0m\n\u001b[0;32m     17\u001b[0m         \u001b[0mY\u001b[0m \u001b[1;33m=\u001b[0m \u001b[0mdata_mat\u001b[0m\u001b[1;33m[\u001b[0m\u001b[1;33m:\u001b[0m\u001b[1;33m,\u001b[0m \u001b[1;33m-\u001b[0m\u001b[1;36m1\u001b[0m\u001b[1;33m]\u001b[0m\u001b[1;33m\u001b[0m\u001b[0m\n\u001b[0;32m     18\u001b[0m \u001b[1;33m\u001b[0m\u001b[0m\n\u001b[1;32m---> 19\u001b[1;33m         \u001b[0mL1\u001b[0m \u001b[1;33m=\u001b[0m \u001b[0mnonlin\u001b[0m\u001b[1;33m(\u001b[0m\u001b[0mnp\u001b[0m\u001b[1;33m.\u001b[0m\u001b[0mdot\u001b[0m\u001b[1;33m(\u001b[0m\u001b[0mL0\u001b[0m\u001b[1;33m,\u001b[0m \u001b[0mw0\u001b[0m\u001b[1;33m)\u001b[0m\u001b[1;33m)\u001b[0m\u001b[1;33m\u001b[0m\u001b[0m\n\u001b[0m\u001b[0;32m     20\u001b[0m \u001b[1;33m\u001b[0m\u001b[0m\n\u001b[0;32m     21\u001b[0m         \u001b[0mL1_error\u001b[0m \u001b[1;33m=\u001b[0m \u001b[0mY\u001b[0m \u001b[1;33m-\u001b[0m \u001b[0mL1\u001b[0m\u001b[1;33m\u001b[0m\u001b[0m\n",
      "\u001b[1;31mValueError\u001b[0m: shapes (93884,90) and (91,1) not aligned: 90 (dim 1) != 91 (dim 0)"
     ]
    }
   ],
   "source": [
    "w0 = train_model(in_nodes, res='minute')"
   ]
  },
  {
   "cell_type": "code",
   "execution_count": null,
   "metadata": {
    "scrolled": true
   },
   "outputs": [],
   "source": [
    "week_vec = np.zeros(7)\n",
    "hour_vec = np.zeros(24)\n",
    "minute_vec = np.zeros(60)\n",
    "\n",
    "week_vec[6] = 1\n",
    "hour_vec[23] = 1\n",
    "minute_vec[30] = 1\n",
    "print('%-.15f'%nonlin(np.dot(np.hstack((week_vec, hour_vec, minute_vec)), w0)))"
   ]
  },
  {
   "cell_type": "code",
   "execution_count": null,
   "metadata": {},
   "outputs": [],
   "source": [
    "np.savetxt('weights-weekminute-21apr-04may.csv', w0, delimiter=',', fmt='%.8f')"
   ]
  },
  {
   "cell_type": "code",
   "execution_count": null,
   "metadata": {},
   "outputs": [],
   "source": [
    "from itertools import chain\n",
    "\n",
    "inputdf = pd.DataFrame(in_nodes, columns=chain(range(7), range(24), range(60)))"
   ]
  },
  {
   "cell_type": "code",
   "execution_count": null,
   "metadata": {},
   "outputs": [],
   "source": [
    "inputdf['value'] = list(temp.value)"
   ]
  },
  {
   "cell_type": "code",
   "execution_count": null,
   "metadata": {},
   "outputs": [],
   "source": [
    "inputdf.to_csv('inputnodes-weekminute-21apr-04may.csv', index=False)"
   ]
  },
  {
   "cell_type": "code",
   "execution_count": null,
   "metadata": {},
   "outputs": [],
   "source": [
    "for i,j in zip(w0, np.hstack((week_vec, hour_vec, minute_vec))):\n",
    "    print(i,j)"
   ]
  },
  {
   "cell_type": "markdown",
   "metadata": {},
   "source": [
    "# Visualization"
   ]
  },
  {
   "cell_type": "code",
   "execution_count": null,
   "metadata": {},
   "outputs": [],
   "source": [
    "temp['Value'] = temp.Value.apply(lambda x: 1 if x == 'online' else -1)"
   ]
  },
  {
   "cell_type": "code",
   "execution_count": null,
   "metadata": {},
   "outputs": [],
   "source": [
    "#temp_week = temp[:'2018-04-27']\n",
    "temp_week = temp['2018-04-28':]"
   ]
  },
  {
   "cell_type": "code",
   "execution_count": null,
   "metadata": {
    "scrolled": true
   },
   "outputs": [],
   "source": [
    "temp_week = temp_week.resample('1H').apply(lambda x: 1 if sum(x) > 0 else -1)"
   ]
  },
  {
   "cell_type": "code",
   "execution_count": null,
   "metadata": {},
   "outputs": [],
   "source": [
    "is_online = temp_week['Value']==1"
   ]
  },
  {
   "cell_type": "code",
   "execution_count": null,
   "metadata": {},
   "outputs": [],
   "source": [
    "temp_week['Date'] = temp_week.index.date\n",
    "temp_week['Time'] = temp_week.index.time"
   ]
  },
  {
   "cell_type": "markdown",
   "metadata": {},
   "source": [
    "## Bokeh"
   ]
  },
  {
   "cell_type": "code",
   "execution_count": 1,
   "metadata": {},
   "outputs": [],
   "source": [
    "import pandas as pd\n",
    "import seaborn as sns"
   ]
  },
  {
   "cell_type": "code",
   "execution_count": 2,
   "metadata": {},
   "outputs": [],
   "source": [
    "%matplotlib inline"
   ]
  },
  {
   "cell_type": "code",
   "execution_count": 42,
   "metadata": {},
   "outputs": [],
   "source": [
    "df = pd.read_csv('presence-21apr-04may.csv', sep=',', index_col=0, parse_dates=True) # original Data"
   ]
  },
  {
   "cell_type": "code",
   "execution_count": 44,
   "metadata": {},
   "outputs": [],
   "source": [
    "df['numval'] = df.Value.apply(lambda x: 1 if x == 'online' else -1)"
   ]
  },
  {
   "cell_type": "code",
   "execution_count": 51,
   "metadata": {},
   "outputs": [
    {
     "data": {
      "text/html": [
       "<div>\n",
       "<style scoped>\n",
       "    .dataframe tbody tr th:only-of-type {\n",
       "        vertical-align: middle;\n",
       "    }\n",
       "\n",
       "    .dataframe tbody tr th {\n",
       "        vertical-align: top;\n",
       "    }\n",
       "\n",
       "    .dataframe thead th {\n",
       "        text-align: right;\n",
       "    }\n",
       "</style>\n",
       "<table border=\"1\" class=\"dataframe\">\n",
       "  <thead>\n",
       "    <tr style=\"text-align: right;\">\n",
       "      <th></th>\n",
       "      <th>Value</th>\n",
       "      <th>numval</th>\n",
       "    </tr>\n",
       "    <tr>\n",
       "      <th>Datetime</th>\n",
       "      <th></th>\n",
       "      <th></th>\n",
       "    </tr>\n",
       "  </thead>\n",
       "  <tbody>\n",
       "    <tr>\n",
       "      <th>2018-04-21 14:08:30.761</th>\n",
       "      <td>offline</td>\n",
       "      <td>-1</td>\n",
       "    </tr>\n",
       "    <tr>\n",
       "      <th>2018-04-21 14:08:40.761</th>\n",
       "      <td>offline</td>\n",
       "      <td>-1</td>\n",
       "    </tr>\n",
       "    <tr>\n",
       "      <th>2018-04-21 14:08:50.761</th>\n",
       "      <td>offline</td>\n",
       "      <td>-1</td>\n",
       "    </tr>\n",
       "    <tr>\n",
       "      <th>2018-04-21 14:09:00.761</th>\n",
       "      <td>offline</td>\n",
       "      <td>-1</td>\n",
       "    </tr>\n",
       "    <tr>\n",
       "      <th>2018-04-21 14:09:10.761</th>\n",
       "      <td>offline</td>\n",
       "      <td>-1</td>\n",
       "    </tr>\n",
       "  </tbody>\n",
       "</table>\n",
       "</div>"
      ],
      "text/plain": [
       "                           Value  numval\n",
       "Datetime                                \n",
       "2018-04-21 14:08:30.761  offline      -1\n",
       "2018-04-21 14:08:40.761  offline      -1\n",
       "2018-04-21 14:08:50.761  offline      -1\n",
       "2018-04-21 14:09:00.761  offline      -1\n",
       "2018-04-21 14:09:10.761  offline      -1"
      ]
     },
     "execution_count": 51,
     "metadata": {},
     "output_type": "execute_result"
    }
   ],
   "source": [
    "df.head()"
   ]
  },
  {
   "cell_type": "code",
   "execution_count": 59,
   "metadata": {},
   "outputs": [],
   "source": [
    "# One week\n",
    "df_week = df['2018-04-28':]"
   ]
  },
  {
   "cell_type": "code",
   "execution_count": 58,
   "metadata": {},
   "outputs": [],
   "source": [
    "def resampler(x):\n",
    "    x['numval'] = 1 if sum(x['numval']) > 0 else -1\n",
    "    return x"
   ]
  },
  {
   "cell_type": "code",
   "execution_count": 61,
   "metadata": {
    "scrolled": true
   },
   "outputs": [],
   "source": [
    "df_week = df_week.resample('1T').apply(resampler)"
   ]
  },
  {
   "cell_type": "code",
   "execution_count": 64,
   "metadata": {},
   "outputs": [],
   "source": [
    "df_week['weekday'] = df_week.index.weekday"
   ]
  },
  {
   "cell_type": "code",
   "execution_count": 65,
   "metadata": {},
   "outputs": [],
   "source": [
    "df_week['time'] = df_week.index.time"
   ]
  },
  {
   "cell_type": "code",
   "execution_count": 66,
   "metadata": {},
   "outputs": [
    {
     "data": {
      "text/plain": [
       "<matplotlib.axes._subplots.AxesSubplot at 0x27dc1cc4630>"
      ]
     },
     "execution_count": 66,
     "metadata": {},
     "output_type": "execute_result"
    },
    {
     "data": {
      "image/png": "[encoded data removed]",
      "text/plain": [
       "<Figure size 432x288 with 1 Axes>"
      ]
     },
     "metadata": {},
     "output_type": "display_data"
    }
   ],
   "source": [
    "df_week.plot.line()"
   ]
  },
  {
   "cell_type": "code",
   "execution_count": 50,
   "metadata": {},
   "outputs": [
    {
     "data": {
      "text/html": [
       "<div>\n",
       "<style scoped>\n",
       "    .dataframe tbody tr th:only-of-type {\n",
       "        vertical-align: middle;\n",
       "    }\n",
       "\n",
       "    .dataframe tbody tr th {\n",
       "        vertical-align: top;\n",
       "    }\n",
       "\n",
       "    .dataframe thead th {\n",
       "        text-align: right;\n",
       "    }\n",
       "</style>\n",
       "<table border=\"1\" class=\"dataframe\">\n",
       "  <thead>\n",
       "    <tr style=\"text-align: right;\">\n",
       "      <th></th>\n",
       "      <th>numval</th>\n",
       "      <th>weekday</th>\n",
       "      <th>time</th>\n",
       "    </tr>\n",
       "    <tr>\n",
       "      <th>Datetime</th>\n",
       "      <th></th>\n",
       "      <th></th>\n",
       "      <th></th>\n",
       "    </tr>\n",
       "  </thead>\n",
       "  <tbody>\n",
       "    <tr>\n",
       "      <th>2018-04-28 00:00:00</th>\n",
       "      <td>1</td>\n",
       "      <td>5</td>\n",
       "      <td>00:00:00</td>\n",
       "    </tr>\n",
       "    <tr>\n",
       "      <th>2018-04-28 00:01:00</th>\n",
       "      <td>1</td>\n",
       "      <td>5</td>\n",
       "      <td>00:01:00</td>\n",
       "    </tr>\n",
       "    <tr>\n",
       "      <th>2018-04-28 00:02:00</th>\n",
       "      <td>1</td>\n",
       "      <td>5</td>\n",
       "      <td>00:02:00</td>\n",
       "    </tr>\n",
       "    <tr>\n",
       "      <th>2018-04-28 00:03:00</th>\n",
       "      <td>1</td>\n",
       "      <td>5</td>\n",
       "      <td>00:03:00</td>\n",
       "    </tr>\n",
       "    <tr>\n",
       "      <th>2018-04-28 00:04:00</th>\n",
       "      <td>1</td>\n",
       "      <td>5</td>\n",
       "      <td>00:04:00</td>\n",
       "    </tr>\n",
       "    <tr>\n",
       "      <th>2018-04-28 00:05:00</th>\n",
       "      <td>1</td>\n",
       "      <td>5</td>\n",
       "      <td>00:05:00</td>\n",
       "    </tr>\n",
       "    <tr>\n",
       "      <th>2018-04-28 00:06:00</th>\n",
       "      <td>1</td>\n",
       "      <td>5</td>\n",
       "      <td>00:06:00</td>\n",
       "    </tr>\n",
       "    <tr>\n",
       "      <th>2018-04-28 00:07:00</th>\n",
       "      <td>-1</td>\n",
       "      <td>5</td>\n",
       "      <td>00:07:00</td>\n",
       "    </tr>\n",
       "    <tr>\n",
       "      <th>2018-04-28 00:08:00</th>\n",
       "      <td>1</td>\n",
       "      <td>5</td>\n",
       "      <td>00:08:00</td>\n",
       "    </tr>\n",
       "    <tr>\n",
       "      <th>2018-04-28 00:09:00</th>\n",
       "      <td>1</td>\n",
       "      <td>5</td>\n",
       "      <td>00:09:00</td>\n",
       "    </tr>\n",
       "    <tr>\n",
       "      <th>2018-04-28 00:10:00</th>\n",
       "      <td>1</td>\n",
       "      <td>5</td>\n",
       "      <td>00:10:00</td>\n",
       "    </tr>\n",
       "    <tr>\n",
       "      <th>2018-04-28 00:11:00</th>\n",
       "      <td>1</td>\n",
       "      <td>5</td>\n",
       "      <td>00:11:00</td>\n",
       "    </tr>\n",
       "    <tr>\n",
       "      <th>2018-04-28 00:12:00</th>\n",
       "      <td>1</td>\n",
       "      <td>5</td>\n",
       "      <td>00:12:00</td>\n",
       "    </tr>\n",
       "    <tr>\n",
       "      <th>2018-04-28 00:13:00</th>\n",
       "      <td>1</td>\n",
       "      <td>5</td>\n",
       "      <td>00:13:00</td>\n",
       "    </tr>\n",
       "    <tr>\n",
       "      <th>2018-04-28 00:14:00</th>\n",
       "      <td>1</td>\n",
       "      <td>5</td>\n",
       "      <td>00:14:00</td>\n",
       "    </tr>\n",
       "    <tr>\n",
       "      <th>2018-04-28 00:15:00</th>\n",
       "      <td>1</td>\n",
       "      <td>5</td>\n",
       "      <td>00:15:00</td>\n",
       "    </tr>\n",
       "    <tr>\n",
       "      <th>2018-04-28 00:16:00</th>\n",
       "      <td>1</td>\n",
       "      <td>5</td>\n",
       "      <td>00:16:00</td>\n",
       "    </tr>\n",
       "    <tr>\n",
       "      <th>2018-04-28 00:17:00</th>\n",
       "      <td>1</td>\n",
       "      <td>5</td>\n",
       "      <td>00:17:00</td>\n",
       "    </tr>\n",
       "    <tr>\n",
       "      <th>2018-04-28 00:18:00</th>\n",
       "      <td>1</td>\n",
       "      <td>5</td>\n",
       "      <td>00:18:00</td>\n",
       "    </tr>\n",
       "    <tr>\n",
       "      <th>2018-04-28 00:19:00</th>\n",
       "      <td>1</td>\n",
       "      <td>5</td>\n",
       "      <td>00:19:00</td>\n",
       "    </tr>\n",
       "    <tr>\n",
       "      <th>2018-04-28 00:20:00</th>\n",
       "      <td>1</td>\n",
       "      <td>5</td>\n",
       "      <td>00:20:00</td>\n",
       "    </tr>\n",
       "    <tr>\n",
       "      <th>2018-04-28 00:21:00</th>\n",
       "      <td>1</td>\n",
       "      <td>5</td>\n",
       "      <td>00:21:00</td>\n",
       "    </tr>\n",
       "    <tr>\n",
       "      <th>2018-04-28 00:22:00</th>\n",
       "      <td>1</td>\n",
       "      <td>5</td>\n",
       "      <td>00:22:00</td>\n",
       "    </tr>\n",
       "    <tr>\n",
       "      <th>2018-04-28 00:23:00</th>\n",
       "      <td>1</td>\n",
       "      <td>5</td>\n",
       "      <td>00:23:00</td>\n",
       "    </tr>\n",
       "    <tr>\n",
       "      <th>2018-04-28 00:24:00</th>\n",
       "      <td>1</td>\n",
       "      <td>5</td>\n",
       "      <td>00:24:00</td>\n",
       "    </tr>\n",
       "    <tr>\n",
       "      <th>2018-04-28 00:25:00</th>\n",
       "      <td>1</td>\n",
       "      <td>5</td>\n",
       "      <td>00:25:00</td>\n",
       "    </tr>\n",
       "    <tr>\n",
       "      <th>2018-04-28 00:26:00</th>\n",
       "      <td>1</td>\n",
       "      <td>5</td>\n",
       "      <td>00:26:00</td>\n",
       "    </tr>\n",
       "    <tr>\n",
       "      <th>2018-04-28 00:27:00</th>\n",
       "      <td>1</td>\n",
       "      <td>5</td>\n",
       "      <td>00:27:00</td>\n",
       "    </tr>\n",
       "    <tr>\n",
       "      <th>2018-04-28 00:28:00</th>\n",
       "      <td>1</td>\n",
       "      <td>5</td>\n",
       "      <td>00:28:00</td>\n",
       "    </tr>\n",
       "    <tr>\n",
       "      <th>2018-04-28 00:29:00</th>\n",
       "      <td>1</td>\n",
       "      <td>5</td>\n",
       "      <td>00:29:00</td>\n",
       "    </tr>\n",
       "    <tr>\n",
       "      <th>...</th>\n",
       "      <td>...</td>\n",
       "      <td>...</td>\n",
       "      <td>...</td>\n",
       "    </tr>\n",
       "    <tr>\n",
       "      <th>2018-05-04 22:51:00</th>\n",
       "      <td>1</td>\n",
       "      <td>4</td>\n",
       "      <td>22:51:00</td>\n",
       "    </tr>\n",
       "    <tr>\n",
       "      <th>2018-05-04 22:52:00</th>\n",
       "      <td>1</td>\n",
       "      <td>4</td>\n",
       "      <td>22:52:00</td>\n",
       "    </tr>\n",
       "    <tr>\n",
       "      <th>2018-05-04 22:53:00</th>\n",
       "      <td>1</td>\n",
       "      <td>4</td>\n",
       "      <td>22:53:00</td>\n",
       "    </tr>\n",
       "    <tr>\n",
       "      <th>2018-05-04 22:54:00</th>\n",
       "      <td>1</td>\n",
       "      <td>4</td>\n",
       "      <td>22:54:00</td>\n",
       "    </tr>\n",
       "    <tr>\n",
       "      <th>2018-05-04 22:55:00</th>\n",
       "      <td>1</td>\n",
       "      <td>4</td>\n",
       "      <td>22:55:00</td>\n",
       "    </tr>\n",
       "    <tr>\n",
       "      <th>2018-05-04 22:56:00</th>\n",
       "      <td>1</td>\n",
       "      <td>4</td>\n",
       "      <td>22:56:00</td>\n",
       "    </tr>\n",
       "    <tr>\n",
       "      <th>2018-05-04 22:57:00</th>\n",
       "      <td>1</td>\n",
       "      <td>4</td>\n",
       "      <td>22:57:00</td>\n",
       "    </tr>\n",
       "    <tr>\n",
       "      <th>2018-05-04 22:58:00</th>\n",
       "      <td>1</td>\n",
       "      <td>4</td>\n",
       "      <td>22:58:00</td>\n",
       "    </tr>\n",
       "    <tr>\n",
       "      <th>2018-05-04 22:59:00</th>\n",
       "      <td>1</td>\n",
       "      <td>4</td>\n",
       "      <td>22:59:00</td>\n",
       "    </tr>\n",
       "    <tr>\n",
       "      <th>2018-05-04 23:00:00</th>\n",
       "      <td>1</td>\n",
       "      <td>4</td>\n",
       "      <td>23:00:00</td>\n",
       "    </tr>\n",
       "    <tr>\n",
       "      <th>2018-05-04 23:01:00</th>\n",
       "      <td>1</td>\n",
       "      <td>4</td>\n",
       "      <td>23:01:00</td>\n",
       "    </tr>\n",
       "    <tr>\n",
       "      <th>2018-05-04 23:02:00</th>\n",
       "      <td>1</td>\n",
       "      <td>4</td>\n",
       "      <td>23:02:00</td>\n",
       "    </tr>\n",
       "    <tr>\n",
       "      <th>2018-05-04 23:03:00</th>\n",
       "      <td>1</td>\n",
       "      <td>4</td>\n",
       "      <td>23:03:00</td>\n",
       "    </tr>\n",
       "    <tr>\n",
       "      <th>2018-05-04 23:04:00</th>\n",
       "      <td>1</td>\n",
       "      <td>4</td>\n",
       "      <td>23:04:00</td>\n",
       "    </tr>\n",
       "    <tr>\n",
       "      <th>2018-05-04 23:05:00</th>\n",
       "      <td>1</td>\n",
       "      <td>4</td>\n",
       "      <td>23:05:00</td>\n",
       "    </tr>\n",
       "    <tr>\n",
       "      <th>2018-05-04 23:06:00</th>\n",
       "      <td>1</td>\n",
       "      <td>4</td>\n",
       "      <td>23:06:00</td>\n",
       "    </tr>\n",
       "    <tr>\n",
       "      <th>2018-05-04 23:07:00</th>\n",
       "      <td>1</td>\n",
       "      <td>4</td>\n",
       "      <td>23:07:00</td>\n",
       "    </tr>\n",
       "    <tr>\n",
       "      <th>2018-05-04 23:08:00</th>\n",
       "      <td>1</td>\n",
       "      <td>4</td>\n",
       "      <td>23:08:00</td>\n",
       "    </tr>\n",
       "    <tr>\n",
       "      <th>2018-05-04 23:09:00</th>\n",
       "      <td>1</td>\n",
       "      <td>4</td>\n",
       "      <td>23:09:00</td>\n",
       "    </tr>\n",
       "    <tr>\n",
       "      <th>2018-05-04 23:10:00</th>\n",
       "      <td>1</td>\n",
       "      <td>4</td>\n",
       "      <td>23:10:00</td>\n",
       "    </tr>\n",
       "    <tr>\n",
       "      <th>2018-05-04 23:11:00</th>\n",
       "      <td>1</td>\n",
       "      <td>4</td>\n",
       "      <td>23:11:00</td>\n",
       "    </tr>\n",
       "    <tr>\n",
       "      <th>2018-05-04 23:12:00</th>\n",
       "      <td>1</td>\n",
       "      <td>4</td>\n",
       "      <td>23:12:00</td>\n",
       "    </tr>\n",
       "    <tr>\n",
       "      <th>2018-05-04 23:13:00</th>\n",
       "      <td>1</td>\n",
       "      <td>4</td>\n",
       "      <td>23:13:00</td>\n",
       "    </tr>\n",
       "    <tr>\n",
       "      <th>2018-05-04 23:14:00</th>\n",
       "      <td>1</td>\n",
       "      <td>4</td>\n",
       "      <td>23:14:00</td>\n",
       "    </tr>\n",
       "    <tr>\n",
       "      <th>2018-05-04 23:15:00</th>\n",
       "      <td>1</td>\n",
       "      <td>4</td>\n",
       "      <td>23:15:00</td>\n",
       "    </tr>\n",
       "    <tr>\n",
       "      <th>2018-05-04 23:16:00</th>\n",
       "      <td>1</td>\n",
       "      <td>4</td>\n",
       "      <td>23:16:00</td>\n",
       "    </tr>\n",
       "    <tr>\n",
       "      <th>2018-05-04 23:17:00</th>\n",
       "      <td>1</td>\n",
       "      <td>4</td>\n",
       "      <td>23:17:00</td>\n",
       "    </tr>\n",
       "    <tr>\n",
       "      <th>2018-05-04 23:18:00</th>\n",
       "      <td>1</td>\n",
       "      <td>4</td>\n",
       "      <td>23:18:00</td>\n",
       "    </tr>\n",
       "    <tr>\n",
       "      <th>2018-05-04 23:19:00</th>\n",
       "      <td>1</td>\n",
       "      <td>4</td>\n",
       "      <td>23:19:00</td>\n",
       "    </tr>\n",
       "    <tr>\n",
       "      <th>2018-05-04 23:20:00</th>\n",
       "      <td>1</td>\n",
       "      <td>4</td>\n",
       "      <td>23:20:00</td>\n",
       "    </tr>\n",
       "  </tbody>\n",
       "</table>\n",
       "<p>10041 rows × 3 columns</p>\n",
       "</div>"
      ],
      "text/plain": [
       "                     numval  weekday      time\n",
       "Datetime                                      \n",
       "2018-04-28 00:00:00       1        5  00:00:00\n",
       "2018-04-28 00:01:00       1        5  00:01:00\n",
       "2018-04-28 00:02:00       1        5  00:02:00\n",
       "2018-04-28 00:03:00       1        5  00:03:00\n",
       "2018-04-28 00:04:00       1        5  00:04:00\n",
       "2018-04-28 00:05:00       1        5  00:05:00\n",
       "2018-04-28 00:06:00       1        5  00:06:00\n",
       "2018-04-28 00:07:00      -1        5  00:07:00\n",
       "2018-04-28 00:08:00       1        5  00:08:00\n",
       "2018-04-28 00:09:00       1        5  00:09:00\n",
       "2018-04-28 00:10:00       1        5  00:10:00\n",
       "2018-04-28 00:11:00       1        5  00:11:00\n",
       "2018-04-28 00:12:00       1        5  00:12:00\n",
       "2018-04-28 00:13:00       1        5  00:13:00\n",
       "2018-04-28 00:14:00       1        5  00:14:00\n",
       "2018-04-28 00:15:00       1        5  00:15:00\n",
       "2018-04-28 00:16:00       1        5  00:16:00\n",
       "2018-04-28 00:17:00       1        5  00:17:00\n",
       "2018-04-28 00:18:00       1        5  00:18:00\n",
       "2018-04-28 00:19:00       1        5  00:19:00\n",
       "2018-04-28 00:20:00       1        5  00:20:00\n",
       "2018-04-28 00:21:00       1        5  00:21:00\n",
       "2018-04-28 00:22:00       1        5  00:22:00\n",
       "2018-04-28 00:23:00       1        5  00:23:00\n",
       "2018-04-28 00:24:00       1        5  00:24:00\n",
       "2018-04-28 00:25:00       1        5  00:25:00\n",
       "2018-04-28 00:26:00       1        5  00:26:00\n",
       "2018-04-28 00:27:00       1        5  00:27:00\n",
       "2018-04-28 00:28:00       1        5  00:28:00\n",
       "2018-04-28 00:29:00       1        5  00:29:00\n",
       "...                     ...      ...       ...\n",
       "2018-05-04 22:51:00       1        4  22:51:00\n",
       "2018-05-04 22:52:00       1        4  22:52:00\n",
       "2018-05-04 22:53:00       1        4  22:53:00\n",
       "2018-05-04 22:54:00       1        4  22:54:00\n",
       "2018-05-04 22:55:00       1        4  22:55:00\n",
       "2018-05-04 22:56:00       1        4  22:56:00\n",
       "2018-05-04 22:57:00       1        4  22:57:00\n",
       "2018-05-04 22:58:00       1        4  22:58:00\n",
       "2018-05-04 22:59:00       1        4  22:59:00\n",
       "2018-05-04 23:00:00       1        4  23:00:00\n",
       "2018-05-04 23:01:00       1        4  23:01:00\n",
       "2018-05-04 23:02:00       1        4  23:02:00\n",
       "2018-05-04 23:03:00       1        4  23:03:00\n",
       "2018-05-04 23:04:00       1        4  23:04:00\n",
       "2018-05-04 23:05:00       1        4  23:05:00\n",
       "2018-05-04 23:06:00       1        4  23:06:00\n",
       "2018-05-04 23:07:00       1        4  23:07:00\n",
       "2018-05-04 23:08:00       1        4  23:08:00\n",
       "2018-05-04 23:09:00       1        4  23:09:00\n",
       "2018-05-04 23:10:00       1        4  23:10:00\n",
       "2018-05-04 23:11:00       1        4  23:11:00\n",
       "2018-05-04 23:12:00       1        4  23:12:00\n",
       "2018-05-04 23:13:00       1        4  23:13:00\n",
       "2018-05-04 23:14:00       1        4  23:14:00\n",
       "2018-05-04 23:15:00       1        4  23:15:00\n",
       "2018-05-04 23:16:00       1        4  23:16:00\n",
       "2018-05-04 23:17:00       1        4  23:17:00\n",
       "2018-05-04 23:18:00       1        4  23:18:00\n",
       "2018-05-04 23:19:00       1        4  23:19:00\n",
       "2018-05-04 23:20:00       1        4  23:20:00\n",
       "\n",
       "[10041 rows x 3 columns]"
      ]
     },
     "execution_count": 50,
     "metadata": {},
     "output_type": "execute_result"
    }
   ],
   "source": [
    "df_week"
   ]
  },
  {
   "cell_type": "code",
   "execution_count": null,
   "metadata": {},
   "outputs": [],
   "source": []
  },
  {
   "cell_type": "code",
   "execution_count": null,
   "metadata": {},
   "outputs": [],
   "source": [
    "import bokeh.plotting as bpl\n",
    "import bokeh.models as bmo\n",
    "from bokeh.palettes import d3\n",
    "#bpl.output_notebook()"
   ]
  },
  {
   "cell_type": "code",
   "execution_count": null,
   "metadata": {},
   "outputs": [],
   "source": [
    "p = bpl.figure(width=800, height=600, tools=\"pan,box_zoom,reset,save\", y_axis_label='Day', x_axis_label='Time', y_axis_type='datetime', x_axis_type='datetime')"
   ]
  },
  {
   "cell_type": "code",
   "execution_count": null,
   "metadata": {},
   "outputs": [],
   "source": [
    "p.circle(temp_week['Time'][is_online], temp_week['Date'][is_online], fill_color='green', size=8)\n",
    "p.circle(temp_week['Time'][~is_online], temp_week['Date'][~is_online], fill_color='red', size=8)"
   ]
  },
  {
   "cell_type": "code",
   "execution_count": null,
   "metadata": {},
   "outputs": [],
   "source": [
    "p.yaxis.formatter = bmo.formatters.DatetimeTickFormatter(days='%a')"
   ]
  },
  {
   "cell_type": "code",
   "execution_count": null,
   "metadata": {
    "scrolled": false
   },
   "outputs": [],
   "source": [
    "bpl.show(p)"
   ]
  }
 ],
 "metadata": {
  "kernelspec": {
   "display_name": "Python 3",
   "language": "python",
   "name": "python3"
  },
  "language_info": {
   "codemirror_mode": {
    "name": "ipython",
    "version": 3
   },
   "file_extension": ".py",
   "mimetype": "text/x-python",
   "name": "python",
   "nbconvert_exporter": "python",
   "pygments_lexer": "ipython3",
   "version": "3.6.5"
  }
 },
 "nbformat": 4,
 "nbformat_minor": 2
}
